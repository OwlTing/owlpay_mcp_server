{
 "cells": [
  {
   "cell_type": "markdown",
   "id": "820c228c",
   "metadata": {},
   "source": [
    "## Cursor install url 更新指引\n",
    "1. 先使用 `get_cursor_installing_url(<name>, <url>)` 產生最新的 Cursor MCP 安裝連結。  \n",
    "2. 複製函式輸出的 **完整 URL**。  \n",
    "3. 打開 **`docs/install-cursor-mcp.html`**，將檔案中原本的安裝連結替換成剛才複製的新連結。  \n",
    "4. 儲存檔案並提交 Pull Request，確保文件同步到最新設定。(streamable 和 public 的 MCP repo 都要)"
   ]
  },
  {
   "cell_type": "code",
   "execution_count": 1,
   "id": "0e189142",
   "metadata": {},
   "outputs": [
    {
     "name": "stdout",
     "output_type": "stream",
     "text": [
      "cursor://anysphere.cursor-deeplink/mcp/install?name=owlpay&config=eyJ1cmwiOiJodHRwczovL293bHBheS1tY3Aub3dsdGluZy5jb20vbWNwLyJ9\n"
     ]
    }
   ],
   "source": [
    "import base64\n",
    "import json\n",
    "import urllib.parse\n",
    "\n",
    "def get_cursor_installing_url(name: str, url: str) -> str:\n",
    "    \"\"\"\n",
    "    產生類似\n",
    "    cursor://anysphere.cursor-deeplink/mcp/install?name=<name>&config=<base64url>\n",
    "    的安裝連結。\n",
    "    \"\"\"\n",
    "    # 1) 將 {\"url\": url} 序列化，移除多餘空白\n",
    "    json_str = json.dumps({\"url\": url}, separators=(\",\", \":\"))\n",
    "\n",
    "    # 2) 轉成 Base64URL（去掉 '='）\n",
    "    config_b64url = base64.urlsafe_b64encode(json_str.encode()).decode().rstrip(\"=\")\n",
    "\n",
    "    # 3) 對 name 做 URL-encode（以防有空白或特殊字元）\n",
    "    name_encoded = urllib.parse.quote(name, safe=\"\")\n",
    "\n",
    "    # 4) 組裝整串 deeplink\n",
    "    return (\n",
    "        \"cursor://anysphere.cursor-deeplink/mcp/install\"\n",
    "        f\"?name={name_encoded}&config={config_b64url}\"\n",
    "    )\n",
    "\n",
    "link = get_cursor_installing_url(\n",
    "    name=\"owlpay\",\n",
    "    url=\"https://owlpay-mcp.owlting.com/mcp/\",\n",
    ")\n",
    "print(link)"
   ]
  },
  {
   "cell_type": "markdown",
   "id": "faa67d59",
   "metadata": {},
   "source": [
    "## Vscode install url 更新指引\n",
    "1. 先使用 `get_vscode_installing_url(<name>, <url>)` 產生最新的 Cursor MCP 安裝連結。  \n",
    "2. 複製函式輸出的 **完整 URL**。  \n",
    "3. 更新 README 中 vscode 的 url  \n",
    "4. 儲存檔案並提交 Pull Request，確保文件同步到最新設定。(streamable 和 public 的 MCP repo 都要)"
   ]
  },
  {
   "cell_type": "code",
   "execution_count": 2,
   "id": "1100f433",
   "metadata": {},
   "outputs": [
    {
     "name": "stdout",
     "output_type": "stream",
     "text": [
      "https://vscode.dev/redirect?url=vscode:mcp/install?%7B%22name%22%3A%22owlpay%22%2C%22type%22%3A%22http%22%2C%22url%22%3A%22https%3A%2F%2Fowlpay-mcp.owlting.com%2Fmcp%2F%22%7D\n"
     ]
    }
   ],
   "source": [
    "import urllib.parse\n",
    "\n",
    "def get_vscode_installing_url(name: str, url: str, type_: str = \"http\") -> str:\n",
    "    \"\"\"\n",
    "    產生 VS Code MCP 安裝連結。\n",
    "\n",
    "    例：\n",
    "    https://vscode.dev/redirect?url=vscode:mcp/install?%7B%22name%22%3A%22owlpay_harbor%22%2C%22type%22%3A%22http%22%2C%22url%22%3A%22https%3A%2F%2Fowlpay-harbor-mcp.owlting.com%2Fmcp%2F%22%7D\n",
    "    \"\"\"\n",
    "    # 1) 組裝最小化 JSON\n",
    "    payload = {\"name\": name, \"type\": type_, \"url\": url}\n",
    "    json_str = json.dumps(payload, separators=(\",\", \":\"))\n",
    "\n",
    "    # 2) 百分比編碼\n",
    "    encoded_json = urllib.parse.quote(json_str, safe=\"\")\n",
    "\n",
    "    # 3) 回傳完整安裝連結\n",
    "    return f\"https://vscode.dev/redirect?url=vscode:mcp/install?{encoded_json}\"\n",
    "\n",
    "\n",
    "\n",
    "link = get_vscode_installing_url(\n",
    "    name=\"owlpay\",\n",
    "    url=\"https://owlpay-mcp.owlting.com/mcp/\",\n",
    ")\n",
    "print(link)"
   ]
  },
  {
   "cell_type": "code",
   "execution_count": null,
   "id": "02b4c1bd",
   "metadata": {},
   "outputs": [],
   "source": []
  },
  {
   "cell_type": "code",
   "execution_count": null,
   "id": "fffd9699",
   "metadata": {},
   "outputs": [],
   "source": []
  }
 ],
 "metadata": {
  "kernelspec": {
   "display_name": "py310_owlpay_mcp_server_api",
   "language": "python",
   "name": "python3"
  },
  "language_info": {
   "codemirror_mode": {
    "name": "ipython",
    "version": 3
   },
   "file_extension": ".py",
   "mimetype": "text/x-python",
   "name": "python",
   "nbconvert_exporter": "python",
   "pygments_lexer": "ipython3",
   "version": "3.10.18"
  }
 },
 "nbformat": 4,
 "nbformat_minor": 5
}
